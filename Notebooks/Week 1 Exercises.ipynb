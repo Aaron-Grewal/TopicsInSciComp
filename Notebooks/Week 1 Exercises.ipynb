{
 "cells": [
  {
   "cell_type": "markdown",
   "id": "b564c7dd",
   "metadata": {},
   "source": [
    "# Welcome to the course"
   ]
  },
  {
   "cell_type": "markdown",
   "id": "275d256d",
   "metadata": {},
   "source": [
    "Now we will do some maths. Here is some maths to add $c =a+b$"
   ]
  },
  {
   "cell_type": "code",
   "execution_count": 2,
   "id": "6e4b6a07",
   "metadata": {},
   "outputs": [
    {
     "name": "stdout",
     "output_type": "stream",
     "text": [
      "3\n"
     ]
    }
   ],
   "source": [
    "a = 1\n",
    "b = 2\n",
    "c = a+b\n",
    "print(c)"
   ]
  },
  {
   "cell_type": "code",
   "execution_count": null,
   "id": "fd6a7639",
   "metadata": {},
   "outputs": [],
   "source": []
  }
 ],
 "metadata": {
  "kernelspec": {
   "display_name": "Python 3 (ipykernel)",
   "language": "python",
   "name": "python3"
  },
  "language_info": {
   "codemirror_mode": {
    "name": "ipython",
    "version": 3
   },
   "file_extension": ".py",
   "mimetype": "text/x-python",
   "name": "python",
   "nbconvert_exporter": "python",
   "pygments_lexer": "ipython3",
   "version": "3.9.7"
  }
 },
 "nbformat": 4,
 "nbformat_minor": 5
}
