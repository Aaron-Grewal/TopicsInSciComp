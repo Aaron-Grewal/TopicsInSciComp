{
 "cells": [
  {
   "cell_type": "markdown",
   "id": "b564c7dd",
   "metadata": {},
   "source": [
    "# Week1 : Welcome to the course!\n",
    "\n",
    "This notebook is just to demonstrate some basic functionality of python and Jupyter notebooks. Try executing the code segments below and changing some of the values or functions to test that you understand what is going on in each one.\n",
    "\n",
    "_Note that to execute a cell you press shift-enter_"
   ]
  },
  {
   "cell_type": "markdown",
   "id": "275d256d",
   "metadata": {},
   "source": [
    "Let's do some very basic maths! Here we will add two numbers $c =a+b$"
   ]
  },
  {
   "cell_type": "code",
   "execution_count": 10,
   "id": "6e4b6a07",
   "metadata": {},
   "outputs": [
    {
     "name": "stdout",
     "output_type": "stream",
     "text": [
      "3\n"
     ]
    }
   ],
   "source": [
    "a = 1\n",
    "b = 2\n",
    "c = a+b\n",
    "print(c)"
   ]
  },
  {
   "cell_type": "markdown",
   "id": "2564c155-7aa8-4b5e-9b42-3d05f2b139d5",
   "metadata": {},
   "source": [
    "Now we load the package numpy, which is useful for doing maths and arrays. We give it an alias `np` to make it easier to call member functions."
   ]
  },
  {
   "cell_type": "code",
   "execution_count": 13,
   "id": "9561be5d-ef9a-4a55-b0e3-27dce7c5c1da",
   "metadata": {},
   "outputs": [],
   "source": [
    "import numpy as np"
   ]
  },
  {
   "cell_type": "markdown",
   "id": "a760978b-b9be-41c2-951b-fae2e4dabe18",
   "metadata": {},
   "source": [
    "Now let's use it to create an array."
   ]
  },
  {
   "cell_type": "code",
   "execution_count": 24,
   "id": "6e873602-f33f-4831-90a6-f50854cfa7b0",
   "metadata": {},
   "outputs": [
    {
     "name": "stdout",
     "output_type": "stream",
     "text": [
      "[[1 2 3 4]\n",
      " [5 6 7 8]]\n",
      "The element in the first row, second column is 2 - note the zero base!!\n"
     ]
    }
   ],
   "source": [
    "a = np.array([[1,2,3,4], [5,6,7,8]])\n",
    "print(a)\n",
    "print(\"The element in the first row, second column is\", a[0][1], \"- note the zero base!!\")"
   ]
  },
  {
   "cell_type": "markdown",
   "id": "684ffd6e-5fb2-4036-a2e4-e8497aac6274",
   "metadata": {},
   "source": [
    "There is something to note about python, that is, how the variables are labelled - I will discuss this in the lecture next week but note this behaviour:"
   ]
  },
  {
   "cell_type": "code",
   "execution_count": 12,
   "id": "de11643e-dfe7-47e6-95e3-c6047e7053fe",
   "metadata": {},
   "outputs": [
    {
     "name": "stdout",
     "output_type": "stream",
     "text": [
      "b was 2\n",
      "b is now 2\n",
      "d is now 4\n"
     ]
    }
   ],
   "source": [
    "print(\"b was\", b)\n",
    "d = b\n",
    "d = 4\n",
    "print(\"b is now\", b)\n",
    "print(\"d is now\", d)"
   ]
  },
  {
   "cell_type": "code",
   "execution_count": null,
   "id": "3203994d-2e32-41f8-a811-c6eaac560ceb",
   "metadata": {},
   "outputs": [],
   "source": []
  }
 ],
 "metadata": {
  "kernelspec": {
   "display_name": "Python 3 (ipykernel)",
   "language": "python",
   "name": "python3"
  },
  "language_info": {
   "codemirror_mode": {
    "name": "ipython",
    "version": 3
   },
   "file_extension": ".py",
   "mimetype": "text/x-python",
   "name": "python",
   "nbconvert_exporter": "python",
   "pygments_lexer": "ipython3",
   "version": "3.10.12"
  }
 },
 "nbformat": 4,
 "nbformat_minor": 5
}
